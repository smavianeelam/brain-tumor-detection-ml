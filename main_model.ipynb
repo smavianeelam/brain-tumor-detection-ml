{
  "cells": [
    {
      "cell_type": "markdown",
      "metadata": {
        "id": "view-in-github",
        "colab_type": "text"
      },
      "source": [
        "<a href=\"https://colab.research.google.com/github/smavianeelam/brain-tumor-detection-ml/blob/main/main_model.ipynb\" target=\"_parent\"><img src=\"https://colab.research.google.com/assets/colab-badge.svg\" alt=\"Open In Colab\"/></a>"
      ]
    },
    {
      "cell_type": "code",
      "execution_count": null,
      "metadata": {
        "id": "L_V5UEVFU9c3"
      },
      "outputs": [],
      "source": [
        "from google.colab import files\n",
        "files.upload()"
      ]
    },
    {
      "cell_type": "code",
      "source": [
        " Author: Smavia Neelam\n",
        "# This notebook is safe and was created for academic purposes.\n",
        "# It contains a CNN model for brain tumor detection.\n",
        "# No external drive access or hidden data requests are made."
      ],
      "metadata": {
        "id": "gcRKYzCq2gqV"
      },
      "execution_count": null,
      "outputs": []
    },
    {
      "cell_type": "code",
      "execution_count": null,
      "metadata": {
        "id": "7-VX0xIhVHL7"
      },
      "outputs": [],
      "source": [
        "!mkdir ~/.kaggle\n",
        "!mv ./kaggle.json ~/.kaggle/\n",
        "!chmod 600 ~/.kaggle/kaggle.json"
      ]
    },
    {
      "cell_type": "code",
      "execution_count": null,
      "metadata": {
        "id": "KCez6uXBVM6d"
      },
      "outputs": [],
      "source": [
        "!kaggle datasets download mohammadhossein77/brain-tumors-dataset\n",
        "!kaggle datasets download gazu468/cifar10-classification-image"
      ]
    },
    {
      "cell_type": "code",
      "execution_count": null,
      "metadata": {
        "id": "cOGNQtnyVQbO"
      },
      "outputs": [],
      "source": [
        "!unzip 'brain-tumors-dataset.zip'\n",
        "!unzip 'cifar10-classification-image.zip'"
      ]
    },
    {
      "cell_type": "code",
      "execution_count": null,
      "metadata": {
        "id": "FWSiZxBmb_so"
      },
      "outputs": [],
      "source": [
        "import os\n",
        "import pandas as pd\n",
        "from random import sample"
      ]
    },
    {
      "cell_type": "code",
      "execution_count": null,
      "metadata": {
        "id": "t3oNOOn3cmN2"
      },
      "outputs": [],
      "source": [
        "def get_image_paths(directory):\n",
        "    image_paths = []\n",
        "    for root, dirs, files in os.walk(directory):\n",
        "        for file in files:\n",
        "            if file.endswith(('.png', '.jpg', '.jpeg')):\n",
        "                image_paths.append(os.path.join(root, file))\n",
        "    return image_paths"
      ]
    },
    {
      "cell_type": "code",
      "execution_count": null,
      "metadata": {
        "id": "UxUQ6ZPecHAu"
      },
      "outputs": [],
      "source": [
        "cifar10_dir = '/content/cifar10/test'\n",
        "cifar_classes = ['airplane', 'automobile', 'bird','cat','deer','dog','frog','horse','ship','truck']"
      ]
    },
    {
      "cell_type": "code",
      "execution_count": null,
      "metadata": {
        "id": "cCZ-WB9QcfBa"
      },
      "outputs": [],
      "source": [
        "image_paths_cifar = []\n",
        "for cifar_class in cifar_classes:\n",
        "    class_dir = os.path.join(cifar10_dir, cifar_class) #(/content/cifar10/test/airplane) (/content/cifar10/test/bird) (/content/cifar10/test/cat) (/content/cifar10/test/deer) (/content/cifar10/test/dog) (/content/cifar10/test/frog) (/content/cifar10/test/horse) (/content/cifar10/test/ship) (/content/cifar10/test/truck)\n",
        "    class_images = get_image_paths(class_dir)\n",
        "\n",
        "\n",
        "    selected_images = sample(class_images, 700)\n",
        "    image_paths_cifar.extend([(img, 0) for img in selected_images])"
      ]
    },
    {
      "cell_type": "code",
      "execution_count": null,
      "metadata": {
        "id": "cYZrsk48cC-E"
      },
      "outputs": [],
      "source": [
        "brain_mri_dir = '/content/Data/Normal'"
      ]
    },
    {
      "cell_type": "code",
      "execution_count": null,
      "metadata": {
        "id": "CwRXit9Vc6UY"
      },
      "outputs": [],
      "source": [
        "brain_mri_images = get_image_paths(brain_mri_dir)\n",
        "image_paths_brain = [(img, 1) for img in brain_mri_images]"
      ]
    },
    {
      "cell_type": "code",
      "execution_count": null,
      "metadata": {
        "id": "vTiod8Mnc8Ox"
      },
      "outputs": [],
      "source": [
        "combined_data = image_paths_cifar + image_paths_brain #\"A\",\"B\" = \"AB\""
      ]
    },
    {
      "cell_type": "code",
      "execution_count": null,
      "metadata": {
        "id": "5KVurLQ8dAFT"
      },
      "outputs": [],
      "source": [
        "df = pd.DataFrame(combined_data, columns=['image_path', 'brain'])"
      ]
    },
    {
      "cell_type": "code",
      "execution_count": null,
      "metadata": {
        "id": "p-aUKtubdBhp"
      },
      "outputs": [],
      "source": [
        "df"
      ]
    },
    {
      "cell_type": "code",
      "execution_count": null,
      "metadata": {
        "id": "hUL51COoddod"
      },
      "outputs": [],
      "source": [
        "df['brain'].value_counts().plot(kind='barh')\n",
        "print(df['brain'].value_counts())"
      ]
    },
    {
      "cell_type": "code",
      "execution_count": null,
      "metadata": {
        "id": "nP6L58c8x7oq"
      },
      "outputs": [],
      "source": [
        "b={\n",
        "    0: 'non_brain',\n",
        "    1: 'brain',\n",
        "}"
      ]
    },
    {
      "cell_type": "code",
      "execution_count": null,
      "metadata": {
        "id": "u03HONGRyBm2"
      },
      "outputs": [],
      "source": [
        "df['class'] = df['brain'].map(b.get)"
      ]
    },
    {
      "cell_type": "code",
      "execution_count": null,
      "metadata": {
        "id": "_DgVxDI7yHzf"
      },
      "outputs": [],
      "source": [
        "df"
      ]
    },
    {
      "cell_type": "code",
      "execution_count": null,
      "metadata": {
        "id": "UK_KhBajwqyP"
      },
      "outputs": [],
      "source": [
        "from sklearn.model_selection import train_test_split\n",
        "# test data set, train data set, validation data set\n",
        "#10%, 80%, 10%\n",
        "#15% 70%, 15%"
      ]
    },
    {
      "cell_type": "code",
      "execution_count": null,
      "metadata": {
        "id": "N1JBzO77w8fH"
      },
      "outputs": [],
      "source": [
        "train_int , val = train_test_split(df, test_size= 0.15, stratify=df['brain'])\n",
        "train, test = train_test_split(train_int, test_size= 0.15 / (1 - 0.15), stratify= train_int['brain'])"
      ]
    },
    {
      "cell_type": "code",
      "execution_count": null,
      "metadata": {
        "id": "7LdfpeRbxAYW"
      },
      "outputs": [],
      "source": [
        "print(train.shape)\n",
        "print(test.shape)\n",
        "print(val.shape)"
      ]
    },
    {
      "cell_type": "code",
      "execution_count": null,
      "metadata": {
        "id": "3LlQ1zlPxdx9"
      },
      "outputs": [],
      "source": [
        "from tensorflow.keras.preprocessing.image import ImageDataGenerator\n",
        "path = '/content'"
      ]
    },
    {
      "cell_type": "code",
      "execution_count": null,
      "metadata": {
        "id": "5_eMrzJ3xJNu"
      },
      "outputs": [],
      "source": [
        "datagen= ImageDataGenerator(\n",
        "\n",
        "        horizontal_flip=True,\n",
        "        rescale=1/255,\n",
        "\n",
        ")\n",
        "\n",
        "datagen_2 = ImageDataGenerator(\n",
        "    rescale=1/255\n",
        ")\n",
        "\n",
        "\n",
        "train_data_gen = datagen.flow_from_dataframe(\n",
        "    dataframe= train,\n",
        "    directory= path,\n",
        "    x_col=\"image_path\",\n",
        "    y_col=\"class\",\n",
        "    target_size=(32,32),\n",
        "    batch_size=32,\n",
        "    class_mode=\"binary\"\n",
        ")\n",
        "\n",
        "test_data_gen = datagen_2.flow_from_dataframe(\n",
        "    dataframe= test,\n",
        "    directory= path,\n",
        "    x_col=\"image_path\",\n",
        "    y_col=\"class\",\n",
        "    target_size=(32,32),\n",
        "    batch_size=32,\n",
        "    class_mode=\"binary\"\n",
        ")\n",
        "\n",
        "val_data_gen = datagen_2.flow_from_dataframe(\n",
        "    dataframe= val,\n",
        "    directory= path,\n",
        "    x_col=\"image_path\",\n",
        "    y_col=\"class\",\n",
        "    target_size=(32,32),\n",
        "    batch_size=32,\n",
        "    class_mode=\"binary\"\n",
        ")"
      ]
    },
    {
      "cell_type": "code",
      "execution_count": null,
      "metadata": {
        "id": "V2wEicIzxxl2"
      },
      "outputs": [],
      "source": [
        "import matplotlib.pyplot as plt\n",
        "\n",
        "from tensorflow.keras.preprocessing import image\n",
        "\n",
        "num=5\n",
        "\n",
        "train_data = val\n",
        "\n",
        "sample_indices= train_data.sample(num).index\n",
        "\n",
        "plt.figure(figsize=(12,6))\n",
        "for i, idx in enumerate(sample_indices):\n",
        "  img_path= train_data.loc[idx,\"image_path\"]\n",
        "  img= image.load_img(img_path,target_size=(150,150))\n",
        "  plt.subplot(1, num, i+1)\n",
        "  plt.imshow(img)\n",
        "  plt.title(train_data.loc[idx, \"class\"])\n",
        "  plt.axis(\"off\")\n",
        "\n",
        "plt.show()"
      ]
    },
    {
      "cell_type": "code",
      "execution_count": null,
      "metadata": {
        "id": "uMbaDLIgzuTc"
      },
      "outputs": [],
      "source": [
        "from keras.layers import Conv2D,MaxPool2D,Dropout,Flatten,Dense\n",
        "from keras.models import Sequential"
      ]
    },
    {
      "cell_type": "code",
      "execution_count": null,
      "metadata": {
        "id": "hwsqKP9HzmuO"
      },
      "outputs": [],
      "source": [
        "my_model = Sequential()\n",
        "\n",
        "\n",
        "my_model.add(Conv2D(16,(3,3),activation='relu',input_shape=(32,32,3)))\n",
        "my_model.add(MaxPool2D((2,2)))\n",
        "\n",
        "\n",
        "my_model.add(Conv2D(32,(3,3),activation='relu'))\n",
        "my_model.add(MaxPool2D((2,2)))\n",
        "\n",
        "my_model.add(Conv2D(64,(3,3),activation='relu'))\n",
        "my_model.add(MaxPool2D((2,2)))\n",
        "\n",
        "my_model.add(Dropout(0.25))\n",
        "\n",
        "my_model.add(Flatten())\n",
        "\n",
        "\n",
        "my_model.add(Dense(64,activation='relu'))\n",
        "my_model.add(Dense(32,activation='relu'))\n",
        "my_model.add(Dense(1,activation='sigmoid'))\n",
        "\n",
        "\n",
        "my_model.summary()\n",
        "\n"
      ]
    },
    {
      "cell_type": "code",
      "execution_count": null,
      "metadata": {
        "id": "nElJLKGHzqXD"
      },
      "outputs": [],
      "source": [
        "from keras.callbacks import ModelCheckpoint,EarlyStopping\n",
        "\n",
        "es=EarlyStopping(monitor=\"val_accuracy\",min_delta=0.01,patience=40,verbose=1,mode='auto')\n",
        "mc=ModelCheckpoint(monitor=\"val_accuracy\",filepath='./bestmodel.keras',verbose=1,save_best_only=True,mode='auto')\n",
        "\n",
        "\n",
        "cd = [es,mc]"
      ]
    },
    {
      "cell_type": "code",
      "execution_count": null,
      "metadata": {
        "id": "j4eTPNBXzz5l"
      },
      "outputs": [],
      "source": [
        "import tensorflow as tf\n",
        "\n",
        "my_model.compile(optimizer=tf.keras.optimizers.Adam(learning_rate=0.001), loss='binary_crossentropy',metrics=['accuracy'])"
      ]
    },
    {
      "cell_type": "code",
      "execution_count": null,
      "metadata": {
        "id": "C5vyAXdnz1mg"
      },
      "outputs": [],
      "source": [
        "hs=my_model.fit(train_data_gen,epochs=100,verbose=1,steps_per_epoch=20,validation_data=val_data_gen,validation_steps=20,callbacks=cd)"
      ]
    },
    {
      "cell_type": "code",
      "execution_count": null,
      "metadata": {
        "id": "qzEvsJMk0BAl"
      },
      "outputs": [],
      "source": [
        "h = hs.history\n",
        "h.keys()"
      ]
    },
    {
      "cell_type": "code",
      "execution_count": null,
      "metadata": {
        "id": "E1aXbs7B0DXN"
      },
      "outputs": [],
      "source": [
        "import matplotlib.pyplot as plt\n",
        "plt.plot(h['loss'],c=\"red\")\n",
        "plt.plot(h['val_loss'],c=\"green\")\n",
        "plt.title(\"Loss vs val_loss\")\n",
        "plt.show()"
      ]
    },
    {
      "cell_type": "code",
      "execution_count": null,
      "metadata": {
        "id": "QWmFlFxF0FT_"
      },
      "outputs": [],
      "source": [
        "import matplotlib.pyplot as plt\n",
        "plt.plot(h['accuracy'],c=\"red\")\n",
        "plt.plot(h['val_accuracy'],c=\"green\")\n",
        "plt.title(\"Loss vs val_loss\")\n",
        "plt.show()"
      ]
    },
    {
      "cell_type": "code",
      "execution_count": null,
      "metadata": {
        "id": "UCwMuU450VfK"
      },
      "outputs": [],
      "source": [
        "model = tf.keras.models.load_model('/content/bestmodel.keras')\n",
        "acc= model.evaluate(test_data_gen)[1]\n",
        "acc*100"
      ]
    },
    {
      "cell_type": "code",
      "execution_count": null,
      "metadata": {
        "id": "FSMwwmXq0YkV"
      },
      "outputs": [],
      "source": [
        "model.save('./bestmodel.h5')"
      ]
    },
    {
      "cell_type": "code",
      "execution_count": null,
      "metadata": {
        "id": "qH_W9BhC1E_s"
      },
      "outputs": [],
      "source": []
    }
  ],
  "metadata": {
    "colab": {
      "provenance": [],
      "toc_visible": true,
      "include_colab_link": true
    },
    "kernelspec": {
      "display_name": "Python 3",
      "name": "python3"
    },
    "language_info": {
      "name": "python"
    }
  },
  "nbformat": 4,
  "nbformat_minor": 0
}